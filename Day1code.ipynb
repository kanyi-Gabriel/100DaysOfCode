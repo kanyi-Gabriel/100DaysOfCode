{
 "cells": [
  {
   "cell_type": "code",
   "execution_count": 58,
   "id": "343cbdc1-42e9-490b-a975-eecefb819b88",
   "metadata": {},
   "outputs": [],
   "source": [
    "# To import required libraries\n",
    "import pandas as pd\n",
    "import matplotlib.pyplot as plt\n",
    "import seaborn as sns"
   ]
  },
  {
   "cell_type": "code",
   "execution_count": 59,
   "id": "e9f008f8-8488-4ec0-85f4-1c2e81951b17",
   "metadata": {},
   "outputs": [],
   "source": [
    "def wrangle(filepath):\n",
    "    df = pd.read_csv(filepath)\n",
    "\n",
    "    return df"
   ]
  },
  {
   "cell_type": "code",
   "execution_count": 60,
   "id": "835f9586-42fe-4ccb-8252-67baffb640b0",
   "metadata": {},
   "outputs": [],
   "source": [
    "df = wrangle(r\"C:\\Users\\User\\Desktop\\projectComplete\\titanicEDA\\titanic.csv\")"
   ]
  },
  {
   "cell_type": "code",
   "execution_count": 61,
   "id": "964e799f-0ea9-4ce6-a71a-1e820f7f18fa",
   "metadata": {},
   "outputs": [
    {
     "data": {
      "text/html": [
       "<div>\n",
       "<style scoped>\n",
       "    .dataframe tbody tr th:only-of-type {\n",
       "        vertical-align: middle;\n",
       "    }\n",
       "\n",
       "    .dataframe tbody tr th {\n",
       "        vertical-align: top;\n",
       "    }\n",
       "\n",
       "    .dataframe thead th {\n",
       "        text-align: right;\n",
       "    }\n",
       "</style>\n",
       "<table border=\"1\" class=\"dataframe\">\n",
       "  <thead>\n",
       "    <tr style=\"text-align: right;\">\n",
       "      <th></th>\n",
       "      <th>PassengerId</th>\n",
       "      <th>Survived</th>\n",
       "      <th>Pclass</th>\n",
       "      <th>Name</th>\n",
       "      <th>Sex</th>\n",
       "      <th>Age</th>\n",
       "      <th>SibSp</th>\n",
       "      <th>Parch</th>\n",
       "      <th>Ticket</th>\n",
       "      <th>Fare</th>\n",
       "      <th>Cabin</th>\n",
       "      <th>Embarked</th>\n",
       "    </tr>\n",
       "  </thead>\n",
       "  <tbody>\n",
       "    <tr>\n",
       "      <th>0</th>\n",
       "      <td>1</td>\n",
       "      <td>0</td>\n",
       "      <td>3</td>\n",
       "      <td>Braund, Mr. Owen Harris</td>\n",
       "      <td>male</td>\n",
       "      <td>22.0</td>\n",
       "      <td>1</td>\n",
       "      <td>0</td>\n",
       "      <td>A/5 21171</td>\n",
       "      <td>7.2500</td>\n",
       "      <td>NaN</td>\n",
       "      <td>S</td>\n",
       "    </tr>\n",
       "    <tr>\n",
       "      <th>1</th>\n",
       "      <td>2</td>\n",
       "      <td>1</td>\n",
       "      <td>1</td>\n",
       "      <td>Cumings, Mrs. John Bradley (Florence Briggs Th...</td>\n",
       "      <td>female</td>\n",
       "      <td>38.0</td>\n",
       "      <td>1</td>\n",
       "      <td>0</td>\n",
       "      <td>PC 17599</td>\n",
       "      <td>71.2833</td>\n",
       "      <td>C85</td>\n",
       "      <td>C</td>\n",
       "    </tr>\n",
       "    <tr>\n",
       "      <th>2</th>\n",
       "      <td>3</td>\n",
       "      <td>1</td>\n",
       "      <td>3</td>\n",
       "      <td>Heikkinen, Miss. Laina</td>\n",
       "      <td>female</td>\n",
       "      <td>26.0</td>\n",
       "      <td>0</td>\n",
       "      <td>0</td>\n",
       "      <td>STON/O2. 3101282</td>\n",
       "      <td>7.9250</td>\n",
       "      <td>NaN</td>\n",
       "      <td>S</td>\n",
       "    </tr>\n",
       "    <tr>\n",
       "      <th>3</th>\n",
       "      <td>4</td>\n",
       "      <td>1</td>\n",
       "      <td>1</td>\n",
       "      <td>Futrelle, Mrs. Jacques Heath (Lily May Peel)</td>\n",
       "      <td>female</td>\n",
       "      <td>35.0</td>\n",
       "      <td>1</td>\n",
       "      <td>0</td>\n",
       "      <td>113803</td>\n",
       "      <td>53.1000</td>\n",
       "      <td>C123</td>\n",
       "      <td>S</td>\n",
       "    </tr>\n",
       "    <tr>\n",
       "      <th>4</th>\n",
       "      <td>5</td>\n",
       "      <td>0</td>\n",
       "      <td>3</td>\n",
       "      <td>Allen, Mr. William Henry</td>\n",
       "      <td>male</td>\n",
       "      <td>35.0</td>\n",
       "      <td>0</td>\n",
       "      <td>0</td>\n",
       "      <td>373450</td>\n",
       "      <td>8.0500</td>\n",
       "      <td>NaN</td>\n",
       "      <td>S</td>\n",
       "    </tr>\n",
       "  </tbody>\n",
       "</table>\n",
       "</div>"
      ],
      "text/plain": [
       "   PassengerId  Survived  Pclass  \\\n",
       "0            1         0       3   \n",
       "1            2         1       1   \n",
       "2            3         1       3   \n",
       "3            4         1       1   \n",
       "4            5         0       3   \n",
       "\n",
       "                                                Name     Sex   Age  SibSp  \\\n",
       "0                            Braund, Mr. Owen Harris    male  22.0      1   \n",
       "1  Cumings, Mrs. John Bradley (Florence Briggs Th...  female  38.0      1   \n",
       "2                             Heikkinen, Miss. Laina  female  26.0      0   \n",
       "3       Futrelle, Mrs. Jacques Heath (Lily May Peel)  female  35.0      1   \n",
       "4                           Allen, Mr. William Henry    male  35.0      0   \n",
       "\n",
       "   Parch            Ticket     Fare Cabin Embarked  \n",
       "0      0         A/5 21171   7.2500   NaN        S  \n",
       "1      0          PC 17599  71.2833   C85        C  \n",
       "2      0  STON/O2. 3101282   7.9250   NaN        S  \n",
       "3      0            113803  53.1000  C123        S  \n",
       "4      0            373450   8.0500   NaN        S  "
      ]
     },
     "execution_count": 61,
     "metadata": {},
     "output_type": "execute_result"
    }
   ],
   "source": [
    "df.head()"
   ]
  },
  {
   "cell_type": "code",
   "execution_count": 53,
   "id": "600418ea-2250-4188-b25a-51aa941aec24",
   "metadata": {},
   "outputs": [],
   "source": [
    "survivors = df[df[\"Survived\"] == 1]\n",
    "non_survivors = df[df[\"Survived\"] == 0]"
   ]
  },
  {
   "cell_type": "code",
   "execution_count": 62,
   "id": "8b29c5ff-6c40-42ea-8755-83a4b743cb89",
   "metadata": {},
   "outputs": [
    {
     "name": "stdin",
     "output_type": "stream",
     "text": [
      "Enter the plot that you want to plot in either['countplot', 'histogram_non_surv', 'histogram_surv','scatter'] countplot\n"
     ]
    },
    {
     "data": {
      "image/png": "[encoded data removed]",
      "text/plain": [
       "<Figure size 1500x600 with 1 Axes>"
      ]
     },
     "metadata": {},
     "output_type": "display_data"
    }
   ],
   "source": [
    "# Reusable function for creatng different plots\n",
    "def create_plot(plot_type):\n",
    "    plt.figure(figsize = (15,6 ))\n",
    "    # To create a bar chart\n",
    "    if plot_type.lower() == \"countplot\":\n",
    "        sns.countplot(x=\"Sex\", hue = \"Survived\", data = df)\n",
    "        # To label axis\n",
    "        plt.xlabel(\"Number of survivors\")\n",
    "        plt.ylabel(\"Gender\")\n",
    "        # To add a title\n",
    "        plt.title(\"Bar chart of Distribuion of survivors\")\n",
    "        # To add a legend\n",
    "        plt.legend(title = \"Survived\", labels = [\"Not survived\", \"survived\"])\n",
    "    #To plot a line histgram\n",
    "    elif plot_type.lower() == \"histogram_surv\":\n",
    "        plt.hist(survivors[\"Age\"], label = \"Survived\", alpha = 0.8, color = \"green\", bins = 20)\n",
    "        plt.title(\"Distribution of survivors by age\")\n",
    "        plt.xlabel(\"Age\")\n",
    "        plt.ylabel(\"count\")\n",
    "    elif plot_type.lower() == \"histogram_non_surv\":\n",
    "        plt.hist(non_survivors[\"Age\"], label = \"Survived\", alpha = 0.8, color = \"red\", bins = 20)\n",
    "        plt.title(\"Distribution of survivors by age\")\n",
    "        plt.xlabel(\"Age\")\n",
    "        plt.ylabel(\"Count\")\n",
    "        \n",
    "    # To create a scatter plot\n",
    "    elif plot_type.lower() == \"scatter\":\n",
    "        plt.scatter(df[\"Survived\"], df[\"Sex\"])\n",
    "    else:\n",
    "        print(\"Invalid Plot type\")\n",
    "        return\n",
    "    \n",
    "# Get user\n",
    "plot_type = input(\"Enter the plot that you want to plot in either['countplot', 'histogram_non_surv', 'histogram_surv','scatter']\")\n",
    "create_plot(plot_type)  \n",
    "    "
   ]
  },
  {
   "cell_type": "code",
   "execution_count": null,
   "id": "0e0f95e6-9c86-4718-b6f5-b5b75cf77d03",
   "metadata": {},
   "outputs": [],
   "source": []
  }
 ],
 "metadata": {
  "kernelspec": {
   "display_name": "Python 3 (ipykernel)",
   "language": "python",
   "name": "python3"
  },
  "language_info": {
   "codemirror_mode": {
    "name": "ipython",
    "version": 3
   },
   "file_extension": ".py",
   "mimetype": "text/x-python",
   "name": "python",
   "nbconvert_exporter": "python",
   "pygments_lexer": "ipython3",
   "version": "3.11.11"
  }
 },
 "nbformat": 4,
 "nbformat_minor": 5
}
