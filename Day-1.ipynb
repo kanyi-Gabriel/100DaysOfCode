{
 "cells": [
  {
   "cell_type": "raw",
   "id": "016b70db-4a85-4bf1-ac76-17f0d522e8c8",
   "metadata": {},
   "source": [
    "# Generate list of even numbers less than 100 using list comprehension\n",
    "even_num = [i for i in range (0, 100, 2)]\n",
    "for num in even_num:\n",
    "    print(num)\n"
   ]
  },
  {
   "cell_type": "code",
   "execution_count": 48,
   "id": "3b03d597-fa89-484d-9f67-7138dc287587",
   "metadata": {},
   "outputs": [
    {
     "data": {
      "text/plain": [
       "array([ 0,  2,  4,  6,  8, 10, 12, 14, 16, 18, 20, 22, 24, 26, 28, 30, 32,\n",
       "       34, 36, 38, 40, 42, 44, 46, 48, 50, 52, 54, 56, 58, 60, 62, 64, 66,\n",
       "       68, 70, 72, 74, 76, 78, 80, 82, 84, 86, 88, 90, 92, 94, 96, 98])"
      ]
     },
     "execution_count": 48,
     "metadata": {},
     "output_type": "execute_result"
    }
   ],
   "source": [
    "# Using numpy instead is more efficient\n",
    "import numpy as np\n",
    "even_num = np.array([i for i in range(0, 100 ,2)])\n",
    "even_num"
   ]
  },
  {
   "cell_type": "markdown",
   "id": "cbf4c647-2ea0-4375-9136-ba6bff62e56e",
   "metadata": {},
   "source": [
    "##### map Funtion\n",
    "   \n",
    "To convert temperatures using map(). To achieve this, use the formula, **F = (C × 9/5) + 32**\n",
    "\n",
    "The map function returns an iterator which is not readily readable, thus converted to list"
   ]
  },
  {
   "cell_type": "code",
   "execution_count": 49,
   "id": "b40f4087-f418-4bb6-bfd1-8d6a539d159b",
   "metadata": {},
   "outputs": [],
   "source": [
    "celsius_temps = [0, 10, 20, 30, 40]"
   ]
  },
  {
   "cell_type": "code",
   "execution_count": 50,
   "id": "5f38bef4-ac34-4988-8dea-5b8e884983bf",
   "metadata": {},
   "outputs": [
    {
     "data": {
      "text/plain": [
       "[32.0, 50.0, 68.0, 86.0, 104.0]"
      ]
     },
     "execution_count": 50,
     "metadata": {},
     "output_type": "execute_result"
    }
   ],
   "source": [
    "fahrenheit_temps = list(map(lambda c: (c *9/5) +32, celsius_temps))\n",
    "fahrenheit_temps"
   ]
  },
  {
   "cell_type": "code",
   "execution_count": null,
   "id": "c48637a5-e02b-49ab-bc4b-37dc228f9310",
   "metadata": {},
   "outputs": [],
   "source": []
  },
  {
   "cell_type": "code",
   "execution_count": null,
   "id": "e17138ab-e07a-457c-8967-5a6b3eda4861",
   "metadata": {},
   "outputs": [],
   "source": []
  }
 ],
 "metadata": {
  "kernelspec": {
   "display_name": "Python 3 (ipykernel)",
   "language": "python",
   "name": "python3"
  },
  "language_info": {
   "codemirror_mode": {
    "name": "ipython",
    "version": 3
   },
   "file_extension": ".py",
   "mimetype": "text/x-python",
   "name": "python",
   "nbconvert_exporter": "python",
   "pygments_lexer": "ipython3",
   "version": "3.11.11"
  }
 },
 "nbformat": 4,
 "nbformat_minor": 5
}
